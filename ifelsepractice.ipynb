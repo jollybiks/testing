{
  "cells": [
    {
      "cell_type": "markdown",
      "metadata": {
        "id": "view-in-github",
        "colab_type": "text"
      },
      "source": [
        "<a href=\"https://colab.research.google.com/github/jollybiks/testing/blob/main/ifelsepractice.ipynb\" target=\"_parent\"><img src=\"https://colab.research.google.com/assets/colab-badge.svg\" alt=\"Open In Colab\"/></a>"
      ]
    },
    {
      "cell_type": "markdown",
      "id": "f6b4b1c8",
      "metadata": {
        "id": "f6b4b1c8"
      },
      "source": [
        "# If elif else Practice"
      ]
    },
    {
      "cell_type": "markdown",
      "id": "88601a0e",
      "metadata": {
        "id": "88601a0e"
      },
      "source": [
        "* Question 1: A company decided to give bonus of 5% to employee if his/her year of service is more than 5 years. Ask user for their salary and year of service and print the net bonus amount."
      ]
    },
    {
      "cell_type": "code",
      "execution_count": null,
      "id": "8550a074",
      "metadata": {
        "id": "8550a074",
        "outputId": "5d63e4af-6b95-4cf6-bdc7-583db38e9d3e"
      },
      "outputs": [
        {
          "name": "stdout",
          "output_type": "stream",
          "text": [
            "1500\n",
            "21\n",
            "Your Salary is 1500 and your Bonus is 750.0\n"
          ]
        }
      ],
      "source": [
        "salary = int(input())\n",
        "y_o_s = int(input())\n",
        "\n",
        "if y_o_s > 5:\n",
        "    bonus = salary * 0.5\n",
        "    print(f\"Your Salary is {salary} and your Bonus is {bonus}\")\n",
        "else:\n",
        "    print(\"No Bonus\")"
      ]
    },
    {
      "cell_type": "code",
      "execution_count": null,
      "id": "afa36760",
      "metadata": {
        "id": "afa36760",
        "outputId": "4465f1be-84cb-4dfe-c587-54803724a614"
      },
      "outputs": [
        {
          "data": {
            "text/plain": [
              "True"
            ]
          },
          "execution_count": 44,
          "metadata": {},
          "output_type": "execute_result"
        }
      ],
      "source": [
        "True & True | False"
      ]
    },
    {
      "cell_type": "code",
      "execution_count": null,
      "id": "5784f2d3",
      "metadata": {
        "id": "5784f2d3",
        "outputId": "d90bd379-22f8-4934-c6be-359895ab7eb8"
      },
      "outputs": [
        {
          "data": {
            "text/plain": [
              "True"
            ]
          },
          "execution_count": 12,
          "metadata": {},
          "output_type": "execute_result"
        }
      ],
      "source": [
        "False & True | True"
      ]
    },
    {
      "cell_type": "code",
      "execution_count": null,
      "id": "73dc41fc",
      "metadata": {
        "id": "73dc41fc",
        "outputId": "2ac6b574-264f-44ed-d255-6b9c5186d218"
      },
      "outputs": [
        {
          "data": {
            "text/plain": [
              "True"
            ]
          },
          "execution_count": 7,
          "metadata": {},
          "output_type": "execute_result"
        }
      ],
      "source": [
        "False | True | False"
      ]
    },
    {
      "cell_type": "code",
      "execution_count": null,
      "id": "9023282f",
      "metadata": {
        "id": "9023282f",
        "outputId": "e1222d65-a0a5-4b5d-c3d3-0b24a285208d"
      },
      "outputs": [
        {
          "data": {
            "text/plain": [
              "True"
            ]
          },
          "execution_count": 8,
          "metadata": {},
          "output_type": "execute_result"
        }
      ],
      "source": [
        "True | False | True"
      ]
    },
    {
      "cell_type": "code",
      "execution_count": null,
      "id": "86a8393d",
      "metadata": {
        "id": "86a8393d",
        "outputId": "9fbbe07e-1f5c-44a9-f90e-0f35bea161a0"
      },
      "outputs": [
        {
          "data": {
            "text/plain": [
              "False"
            ]
          },
          "execution_count": 10,
          "metadata": {},
          "output_type": "execute_result"
        }
      ],
      "source": [
        "False | False & True"
      ]
    },
    {
      "cell_type": "markdown",
      "id": "6b699a78",
      "metadata": {
        "id": "6b699a78"
      },
      "source": [
        "* Question 2: Take values of length and breadth of a rectangle from user and check if it is square or not."
      ]
    },
    {
      "cell_type": "code",
      "execution_count": null,
      "id": "e49c905b",
      "metadata": {
        "id": "e49c905b"
      },
      "outputs": [],
      "source": [
        "length = input()\n",
        "breadth = input()\n",
        "if length == breadth:\n",
        "    print(\"It is a Square\")\n",
        "else:\n",
        "    print(\"Opps! Not a Square\")"
      ]
    },
    {
      "cell_type": "markdown",
      "id": "bc0c02fd",
      "metadata": {
        "id": "bc0c02fd"
      },
      "source": [
        "* Pooja would like to withdraw X USD from an ATM. The cash machine will only accept the transaction if X is a multiple of 5, and Pooja's accountbalance has enough cash to perform the withdrawal transaction (including bank charges). For each successful withdrawal the bank charges 0.50 USD.\n",
        "* Calculate Pooja's account balance after an attempted transaction.\n",
        "* Input: Intitial Balance 20000 USD\n",
        "* Output: Output the account balance after the attempted transaction, given as a number with two digits"
      ]
    },
    {
      "cell_type": "code",
      "execution_count": null,
      "id": "b9dba825",
      "metadata": {
        "id": "b9dba825",
        "outputId": "91a9ed72-b2a2-430a-e683-463aee87fc14"
      },
      "outputs": [
        {
          "name": "stdout",
          "output_type": "stream",
          "text": [
            "2500\n",
            "Pooja's Account Balance is 197499.5 \n"
          ]
        }
      ],
      "source": [
        "withd_amt = int(input())\n",
        "inti_bal_USD= 200000 \n",
        "bank_chrgs = 0.50\n",
        "\n",
        "if withd_amt % 5 == 0:\n",
        "    gv_mny = withd_amt + bank_chrgs\n",
        "    acc_bal = inti_bal_USD-gv_mny\n",
        "    print(f\"Pooja's Account Balance is {acc_bal} \")\n",
        "else:\n",
        "    print(\"Please Enter Amount multiple of 5\")"
      ]
    },
    {
      "cell_type": "markdown",
      "id": "a643431b",
      "metadata": {
        "id": "a643431b"
      },
      "source": [
        "Question 3:\n",
        "* Write a program to calculate the electricity bill (accept number of unit from user) according to the following criteria:\n",
        "     Unit           Price  \n",
        "* First 100 units                                                   no charge\n",
        "* Next 100 units                                                   Rs 5 per unit\n",
        "* After 200 units                                                  Rs 10 per unit\n",
        "* (For example if input unit is 350 than total bill amount is Rs2000)"
      ]
    },
    {
      "cell_type": "code",
      "execution_count": null,
      "id": "59106848",
      "metadata": {
        "colab": {
          "base_uri": "https://localhost:8080/"
        },
        "id": "59106848",
        "outputId": "0334d3d5-4b13-4c93-8700-d1e380197a8d"
      },
      "outputs": [
        {
          "output_type": "stream",
          "name": "stdout",
          "text": [
            "Enter the units consumed: 1500\n",
            "Your Electricity Bill is: 13500\n"
          ]
        }
      ],
      "source": [
        "units_cons = int(input(\"Enter the units consumed: \"))\n",
        "\n",
        "if units_cons <= 100:\n",
        "    print(\"Consumption is less than 100, No Charges\")\n",
        "elif units_cons > 100 and units_cons < 200:\n",
        "    a1 = (units_cons - 100) * 5\n",
        "    print(f\"Your Electricity Bill is: {a1}\")\n",
        "elif units_cons >= 200:\n",
        "    b1 = (units_cons - 200) * 10 + 500\n",
        "    print(f\"Your Electricity Bill is: {b1}\")\n",
        "else:\n",
        "    print(\"Thanks for using our services\")  "
      ]
    },
    {
      "cell_type": "markdown",
      "id": "53f82461",
      "metadata": {
        "id": "53f82461"
      },
      "source": [
        "* Question 4: Write a program to check whether a number entered is five digit number or not, and find its middle number"
      ]
    },
    {
      "cell_type": "code",
      "execution_count": null,
      "id": "669284fb",
      "metadata": {
        "colab": {
          "base_uri": "https://localhost:8080/"
        },
        "id": "669284fb",
        "outputId": "a39a8df6-cdb1-413b-d7d3-0df988365a31"
      },
      "outputs": [
        {
          "output_type": "stream",
          "name": "stdout",
          "text": [
            "Enter any Number: 23458\n",
            "Middle Digit is 4\n"
          ]
        }
      ],
      "source": [
        "num1 = int(input(\"Enter any Number: \"))\n",
        "l = len(str(num1))\n",
        "\n",
        "if l != 5:\n",
        "    print(\"Enter a Three digit Number \")\n",
        "else: \n",
        "    print(\"Middle Digit is\", ((num1%1000)//100))"
      ]
    },
    {
      "cell_type": "markdown",
      "id": "5321a601",
      "metadata": {
        "id": "5321a601"
      },
      "source": [
        "* Question 5 Write a program to check whether an years is leap year or not."
      ]
    },
    {
      "cell_type": "code",
      "execution_count": null,
      "id": "cce79e94",
      "metadata": {
        "colab": {
          "base_uri": "https://localhost:8080/"
        },
        "id": "cce79e94",
        "outputId": "cdaa19b6-a247-4ba2-85b7-c0af91e62e61"
      },
      "outputs": [
        {
          "output_type": "stream",
          "name": "stdout",
          "text": [
            "Enter the year: 2000\n",
            "It's a leap year\n"
          ]
        }
      ],
      "source": [
        "year = int(input(\"Enter the year: \"))\n",
        "\n",
        "if year % 4 == 0:\n",
        "    print(\"It's a leap year\")\n",
        "else:\n",
        "    print(\"Not a leap year\")"
      ]
    },
    {
      "cell_type": "code",
      "execution_count": null,
      "id": "4f7de40d",
      "metadata": {
        "colab": {
          "base_uri": "https://localhost:8080/"
        },
        "id": "4f7de40d",
        "outputId": "657b3689-38fc-4f3a-f8e7-7caf7cc5a183"
      },
      "outputs": [
        {
          "output_type": "stream",
          "name": "stdout",
          "text": [
            "Enter the year: 2004\n",
            "It's a leap year\n"
          ]
        }
      ],
      "source": [
        "year = int(input(\"Enter the year: \"))\n",
        "\n",
        "if year%100 ==0:\n",
        "    if year%400 == 0:\n",
        "        print(\" Entered year is a leap year\")\n",
        "    else:\n",
        "        (\"Entered year is not a leap year\")\n",
        "else:\n",
        "    if year % 4 == 0:\n",
        "        print(\"It's a leap year\")\n",
        "    else:\n",
        "        print(\"Not a leap year\")  \n",
        "  "
      ]
    },
    {
      "cell_type": "code",
      "execution_count": null,
      "id": "41082caf",
      "metadata": {
        "id": "41082caf"
      },
      "outputs": [],
      "source": []
    }
  ],
  "metadata": {
    "kernelspec": {
      "display_name": "Python 3 (ipykernel)",
      "language": "python",
      "name": "python3"
    },
    "language_info": {
      "codemirror_mode": {
        "name": "ipython",
        "version": 3
      },
      "file_extension": ".py",
      "mimetype": "text/x-python",
      "name": "python",
      "nbconvert_exporter": "python",
      "pygments_lexer": "ipython3",
      "version": "3.9.13"
    },
    "colab": {
      "provenance": [],
      "include_colab_link": true
    }
  },
  "nbformat": 4,
  "nbformat_minor": 5
}